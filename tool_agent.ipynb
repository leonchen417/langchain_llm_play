{
 "cells": [
  {
   "cell_type": "raw",
   "id": "f447f94e-bede-4224-89fc-dd80e2faec1d",
   "metadata": {},
   "source": [
    "from dotenv import load_dotenv\n",
    "load_dotenv()\n",
    "import os\n",
    "\n",
    "from typing import Set, List, Literal\n",
    "from langchain.llms import OpenAI\n",
    "from langchain_openai import ChatOpenAI\n",
    "\n",
    "from langchain.agents import AgentExecutor, create_openai_tools_agent, tool\n",
    "from langchain_core.prompts import ChatPromptTemplate, MessagesPlaceholder\n",
    "\n",
    "\n",
    "import yfinance as yf\n",
    "import pandas as pd"
   ]
  },
  {
   "cell_type": "code",
   "execution_count": 20,
   "id": "b6ff8e35-4032-4a39-b845-783865d9cc13",
   "metadata": {},
   "outputs": [],
   "source": [
    "# Define the tool functions\n",
    "@tool\n",
    "def square_number_tool(number: float) -> float:\n",
    "    \"\"\"\n",
    "    calculate the square of a number\n",
    "    \"\"\"\n",
    "    return number ** 2\n",
    "\n",
    "@tool\n",
    "def get_stock_df(ticker_symbol:str, start_date:str, end_date:str,interval:str=\"1d\", columns_needed:Set[str]=set({\"Close\",\"Volume\"}))->pd.DataFrame:\n",
    "    \"\"\"get the prices of a stock ticker between 2 days\"\"\"\n",
    "    MOVING_AVG = f\"{ticker_symbol}_M_A\"\n",
    "    moving_average_window = {\"1d\": 5, \"5d\": 4, \"1wk\": 4, \"1mo\": 3, \"3mo\": 2}.get(interval) or 5\n",
    "    stock = yf.Ticker(ticker_symbol)\n",
    "    stock_history_df = stock.history(start=start_date, end=end_date,interval=interval)\n",
    "    stock_history_df[MOVING_AVG] = stock_history_df[\"Close\"].rolling(window=moving_average_window).mean()\n",
    "    stock_history_df = stock_history_df[list(columns_needed)+[MOVING_AVG]]\n",
    "    stock_history_df.rename(columns={column_name:f\"{ticker_symbol}_{column_name[:3]}\" for column_name in columns_needed}, inplace=True)\n",
    "    return stock_history_df\n",
    "\n"
   ]
  },
  {
   "cell_type": "code",
   "execution_count": 21,
   "id": "54787c32-e280-44b6-97d7-550c08c35598",
   "metadata": {},
   "outputs": [
    {
     "name": "stdout",
     "output_type": "stream",
     "text": [
      "The stock prices and moving averages for MSFT between 2024-10-10 and 2024-10-30, along with their squares, are as follows:\n",
      "\n",
      "| Date       | Close Price | Moving Average | Close Price (Squared) |\n",
      "|------------|-------------|----------------|------------------------|\n",
      "| 2024-10-10 | 415.839996  | NaN            | 172922.90227328        |\n",
      "| 2024-10-11 | 416.320007  | NaN            | 173322.34822848003     |\n",
      "| 2024-10-14 | 419.140015  | NaN            | 175678.35217420023     |\n",
      "| 2024-10-15 | 418.73999   | NaN            | 175343.1792252001      |\n",
      "| 2024-10-16 | 416.119995  | 417.232001     | 173155.85023880005     |\n",
      "| 2024-10-17 | 416.720001  | 417.408002     | 173655.55923344003     |\n",
      "| 2024-10-18 | 418.160004  | 417.776001     | 174857.78894528002     |\n",
      "| 2024-10-21 | 418.779999  | 417.703998     | 175376.68756243997     |\n",
      "| 2024-10-22 | 427.51001   | 419.458002     | 182764.8086502001      |\n",
      "| 2024-10-23 | 424.600006  | 421.154004     | 180285.16509520003     |\n",
      "| 2024-10-24 | 424.730011  | 422.756006     | 180395.58224406012     |\n",
      "| 2024-10-25 | 428.149994  | 424.754004     | 183312.41736220004     |\n",
      "| 2024-10-28 | 426.589996  | 426.316003     | 181979.02468728        |\n",
      "| 2024-10-29 | 431.950012  | 427.204004     | 186580.81286680014     |\n",
      "\n",
      "If you need any further assistance, feel free to ask!\n"
     ]
    }
   ],
   "source": [
    "# Initialize the LLM and memory\n",
    "llm = ChatOpenAI(\n",
    "    temperature=0.4,\n",
    "    model='gpt-3.5-turbo-1106'\n",
    ")\n",
    "\n",
    "prompt = ChatPromptTemplate.from_messages([\n",
    "    (\"system\", \"You are a friendly assistant called Max. You are bad at math calculation, use tool when you need to do arithmetic\"),\n",
    "    (\"human\", \"{input}\"),\n",
    "    MessagesPlaceholder(variable_name=\"agent_scratchpad\"),\n",
    "])\n",
    "\n",
    "tools = [square_number_tool, get_stock_df]\n",
    "agent = create_openai_tools_agent(llm=llm, tools=tools, prompt=prompt)\n",
    "agent_executor = AgentExecutor(agent=agent, tools=tools)\n",
    "\n",
    "user_input = \"Get the stock price and moving average of MSFT between 2024-10-10 to 2024-10-30 then square the numbers\"\n",
    "\n",
    "response = agent_executor.invoke({\n",
    "        \"input\": user_input,\n",
    "    })\n",
    "# the model choose to report closing price\n",
    "print(response[\"output\"])"
   ]
  },
  {
   "cell_type": "raw",
   "id": "80bf24f7-7fcc-458b-b02f-729de6656aa7",
   "metadata": {},
   "source": []
  }
 ],
 "metadata": {
  "kernelspec": {
   "display_name": "Python 3 (ipykernel)",
   "language": "python",
   "name": "python3"
  },
  "language_info": {
   "codemirror_mode": {
    "name": "ipython",
    "version": 3
   },
   "file_extension": ".py",
   "mimetype": "text/x-python",
   "name": "python",
   "nbconvert_exporter": "python",
   "pygments_lexer": "ipython3",
   "version": "3.12.3"
  }
 },
 "nbformat": 4,
 "nbformat_minor": 5
}
