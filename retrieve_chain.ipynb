{
 "cells": [
  {
   "cell_type": "code",
   "execution_count": 1,
   "id": "6e31cf15-fe25-4a39-bb66-101b8d55cbe4",
   "metadata": {},
   "outputs": [
    {
     "name": "stderr",
     "output_type": "stream",
     "text": [
      "USER_AGENT environment variable not set, consider setting it to identify your requests.\n"
     ]
    }
   ],
   "source": [
    "from dotenv import load_dotenv\n",
    "load_dotenv()\n",
    "\n",
    "from langchain_openai import ChatOpenAI\n",
    "from langchain_core.prompts import ChatPromptTemplate\n",
    "from langchain.chains.combine_documents import create_stuff_documents_chain\n",
    "from langchain_community.document_loaders import WebBaseLoader\n",
    "from langchain.text_splitter import RecursiveCharacterTextSplitter\n",
    "from langchain_openai import OpenAIEmbeddings\n",
    "from langchain_community.vectorstores.faiss import FAISS\n",
    "from langchain.chains import create_retrieval_chain\n"
   ]
  },
  {
   "cell_type": "code",
   "execution_count": 2,
   "id": "4cdf7469-5123-4a5b-a727-7e450dc9ed5a",
   "metadata": {},
   "outputs": [],
   "source": [
    "\n",
    "# Retrieve Data\n",
    "def get_docs():\n",
    "    loader = WebBaseLoader('https://en.wikipedia.org/wiki/Rurouni_Kenshin')\n",
    "    docs = loader.load()\n",
    "\n",
    "    # we chunk the document to smaller blocks and set some overlapping.\n",
    "    # set overlap so we the cut off of each segment of doc is smoother, this won't affect LLM's capability to read the doc\n",
    "    # but need to be mindful on the number of token can the LLM embeds (different for each model)\n",
    "    text_splitter = RecursiveCharacterTextSplitter(\n",
    "        chunk_size=200,\n",
    "        chunk_overlap=20\n",
    "    )\n",
    "\n",
    "    splitDocs = text_splitter.split_documents(docs)\n",
    "\n",
    "    return splitDocs\n",
    "\n",
    "# vector store is a db store a documentation with the key as tokenized vector and value as the string of the documentation\n",
    "def create_vector_store(docs):\n",
    "    embedding = OpenAIEmbeddings()\n",
    "    vectorStore = FAISS.from_documents(docs, embedding=embedding)\n",
    "    return vectorStore\n",
    "\n",
    "\n",
    "def create_chain(vectorStore):\n",
    "    model = ChatOpenAI(\n",
    "        temperature=0.4,\n",
    "        model='gpt-3.5-turbo-1106'\n",
    "    )\n",
    "\n",
    "    prompt = ChatPromptTemplate.from_template(\"\"\"\n",
    "    Answer the user's question.\n",
    "    Context: {context}\n",
    "    Question: {input}\n",
    "    \"\"\")\n",
    "\n",
    "    # chain = prompt | model\n",
    "    document_chain = create_stuff_documents_chain(\n",
    "        llm=model,\n",
    "        prompt=prompt\n",
    "    )\n",
    "    # this retriever can find the most relavent doc blocks to the question from the vectorDataStore\n",
    "    # and put into {context} of the prompt (this is an agreed upon keyword\n",
    "    retriever = vectorStore.as_retriever(search_kwargs={\"k\":3})\n",
    "    # this retriever chain glues our main chain and the retriever together\n",
    "    retrieval_chain = create_retrieval_chain(retriever, document_chain)\n",
    "    return retrieval_chain"
   ]
  },
  {
   "cell_type": "code",
   "execution_count": 3,
   "id": "9c99ee7f-a2b9-4bf7-96b4-5b506df499ae",
   "metadata": {},
   "outputs": [
    {
     "name": "stdout",
     "output_type": "stream",
     "text": [
      "[Document(metadata={'source': 'https://en.wikipedia.org/wiki/Rurouni_Kenshin', 'title': 'Rurouni Kenshin - Wikipedia', 'language': 'en'}, page_content='Rurouni Kenshin - Wikipedia\\n\\n\\n\\n\\n\\n\\n\\n\\n\\n\\n\\n\\n\\n\\n\\n\\n\\n\\n\\n\\n\\n\\n\\n\\n\\n\\n\\n\\n\\n\\n\\n\\n\\n\\n\\nJump to content\\n\\n\\n\\n\\n\\n\\n\\nMain menu\\n\\n\\n\\n\\n\\nMain menu\\nmove to sidebar\\nhide\\n\\n\\n\\n\\t\\tNavigation'), Document(metadata={'source': 'https://en.wikipedia.org/wiki/Rurouni_Kenshin', 'title': 'Rurouni Kenshin - Wikipedia', 'language': 'en'}, page_content='Navigation\\n\\t\\n\\n\\nMain pageContentsCurrent eventsRandom articleAbout WikipediaContact us\\n\\n\\n\\n\\n\\n\\t\\tContribute\\n\\t\\n\\n\\nHelpLearn to editCommunity portalRecent changesUpload file\\n\\n\\n\\n\\n\\n\\n\\n\\n\\n\\n\\n\\n\\n\\n\\n\\n\\n\\n\\nSearch'), Document(metadata={'source': 'https://en.wikipedia.org/wiki/Rurouni_Kenshin', 'title': 'Rurouni Kenshin - Wikipedia', 'language': 'en'}, page_content='Search\\n\\n\\n\\n\\n\\n\\n\\n\\n\\n\\n\\nSearch\\n\\n\\n\\n\\n\\n\\n\\n\\n\\n\\n\\n\\n\\n\\n\\nDonate\\n\\n\\n\\n\\n\\n\\n\\n\\nAppearance\\n\\n\\n\\n\\n\\n\\n\\n\\n\\n\\n\\n\\n\\n\\n\\n\\nCreate account\\n\\nLog in\\n\\n\\n\\n\\n\\n\\n\\n\\nPersonal tools\\n\\n\\n\\n\\n\\n Create account Log in')]\n"
     ]
    }
   ],
   "source": [
    "docs = get_docs()\n",
    "print(docs[0:3])"
   ]
  },
  {
   "cell_type": "code",
   "execution_count": 4,
   "id": "4ab78d6e-6d4f-4b52-bc27-aca638b2bed1",
   "metadata": {},
   "outputs": [
    {
     "name": "stdout",
     "output_type": "stream",
     "text": [
      "{'input': 'Which magazine was Rurouni Kenshin been published ?', 'context': [Document(metadata={'source': 'https://en.wikipedia.org/wiki/Rurouni_Kenshin', 'title': 'Rurouni Kenshin - Wikipedia', 'language': 'en'}, page_content=\"Written and illustrated by Nobuhiro Watsuki, Rurouni Kenshin was serialized in Shueisha's shōnen manga magazine Weekly Shōnen Jump from April 12, 1994,[b] to September 21, 1999.[c] The 255 individual\"), Document(metadata={'source': 'https://en.wikipedia.org/wiki/Rurouni_Kenshin', 'title': 'Rurouni Kenshin - Wikipedia', 'language': 'en'}, page_content='Two encyclopedias of the Rurouni Kenshin manga were released; the first one, Rurouni Kenshin Profiles (原典), was released first in Japan on July 4, 1996, by Shueisha and in the United States by Viz'), Document(metadata={'source': 'https://en.wikipedia.org/wiki/Rurouni_Kenshin', 'title': 'Rurouni Kenshin - Wikipedia', 'language': 'en'}, page_content='Further reading[edit]\\n\"Rurouni Kenshin, vol. 1\". Voice of Youth Advocates. 29 (5). E L Kurdyla Publishing LLC: 399. December 1, 2006. ISSN\\xa00160-4201.')], 'answer': \"Rurouni Kenshin was serialized in Shueisha's shōnen manga magazine Weekly Shōnen Jump from April 12, 1994, to September 21, 1999.\"}\n"
     ]
    }
   ],
   "source": [
    "vectorStore = create_vector_store(docs)\n",
    "chain = create_chain(vectorStore)\n",
    "\n",
    "response = chain.invoke({\n",
    "    \"input\": \"Which magazine was Rurouni Kenshin been published ?\",\n",
    "})\n",
    "\n",
    "print(response)"
   ]
  }
 ],
 "metadata": {
  "kernelspec": {
   "display_name": "Python 3 (ipykernel)",
   "language": "python",
   "name": "python3"
  },
  "language_info": {
   "codemirror_mode": {
    "name": "ipython",
    "version": 3
   },
   "file_extension": ".py",
   "mimetype": "text/x-python",
   "name": "python",
   "nbconvert_exporter": "python",
   "pygments_lexer": "ipython3",
   "version": "3.12.3"
  }
 },
 "nbformat": 4,
 "nbformat_minor": 5
}
